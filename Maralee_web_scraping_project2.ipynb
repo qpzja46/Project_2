{
 "cells": [
  {
   "cell_type": "code",
   "execution_count": 19,
   "metadata": {},
   "outputs": [],
   "source": [
    "# Dependencies\n",
    "from splinter import Browser\n",
    "#from bs4 import BeautifulSoup\n",
    "from bs4 import BeautifulSoup as bs\n",
    "import requests\n",
    "import os\n",
    "import pandas as pd\n",
    "import time"
   ]
  },
  {
   "cell_type": "code",
   "execution_count": 101,
   "metadata": {},
   "outputs": [
    {
     "name": "stdout",
     "output_type": "stream",
     "text": [
      "Russian Blue Kittens\n",
      "['https://images.craigslist.org/00N0N_eljobVAEGcB_600x450.jpg', 'https://images.craigslist.org/00h0h_gZImWDV9tGy_600x450.jpg', 'https://images.craigslist.org/01313_1ydm6BDDGEj_600x450.jpg']\n",
      "\n",
      "\n",
      "QR Code Link to This Post\n",
      "\n",
      "\n",
      "Hello, we still have two eight week old kittens available. One's a female and the other is male. These kittens are active and amazingly smart. We enjoy playing with them, they're very interactive. These kittens are good with other pets and children. We socialize with them daily. This breed is good for people with allergies, they're hypoallergenic. A rehoming fee with apply. They're litter trained, dewormed, and have shots.    \n",
      "41.722000\n",
      "-87.702400\n"
     ]
    },
    {
     "data": {
      "text/plain": [
       "'2019-06-19T19:35:55-0500'"
      ]
     },
     "execution_count": 101,
     "metadata": {},
     "output_type": "execute_result"
    }
   ],
   "source": [
    "# def scrape_pages():\n",
    "listings = {}\n",
    "\n",
    "url = \"https://chicago.craigslist.org/sox/pet/d/evergreen-park-russian-blue-kittens/6916013985.html\"\n",
    "response = requests.get(url)\n",
    "\n",
    "# time.sleep(1)\n",
    "soup = BeautifulSoup(response.text, 'html.parser')\n",
    "\n",
    "#print(soup.prettify())\n",
    "\n",
    "title = (soup.find(\"span\", class_=\"postingtitletext\").find(\"span\").get_text())\n",
    "print(title)\n",
    "\n",
    "image_url = []\n",
    "images = soup.find_all(\"a\", class_='thumb')\n",
    "for image in images:\n",
    "    image_url.append(image[\"href\"])\n",
    "    \n",
    "print(image_url)\n",
    "\n",
    "description = soup.find(\"section\", id = \"postingbody\").get_text()\n",
    "\n",
    "\n",
    "#(\"div\",\"\").get_text()\n",
    "                                                            \n",
    "                                                            \n",
    "                                                            \n",
    "                                                            #div\").find(\"div\").find(\"div\")\n",
    "#.get_text()\n",
    "\n",
    "#find(\"p\").find(\"div\")\n",
    "#.get_text()\n",
    "                                                            #, class_=\"print-qrcode\").get_text()\n",
    "#[s.extract() for s in soup(\"p\", class_='print-qrcode-label')]\n",
    "#extract('print-qrcode').get_text()\n",
    "#.find(\"div\", class_ = \"print-information print-qrcode-container\")\n",
    "#[bs.extract() for s in description('print-qrcode')]\n",
    "print(description)\n",
    "\n",
    "#desc = soup.find(\"div\",class_=\"print-qrcode\").get_text()\n",
    "#print(desc)\n",
    "\n",
    "#description_2 = soup.find(\"div\", class_ = \"print-information print-qrcode-container\")\n",
    "#print(description_2)\n",
    "\n",
    "latitude = soup.find(\"div\", id= \"map\")[\"data-latitude\"]\n",
    "print(latitude)\n",
    "\n",
    "longitude = soup.find(\"div\", id =\"map\")[\"data-longitude\"]\n",
    "print(longitude)\n",
    "\n",
    "lat_long = [latitude,longitude]\n",
    "lat_long\n",
    "\n",
    "craigslist_url = url\n",
    "craigslist_url\n",
    "\n",
    "time_posted = soup.find(\"time\", class_ = \"date timeago\")[\"datetime\"]\n",
    "time_posted"
   ]
  }
 ],
 "metadata": {
  "kernelspec": {
   "display_name": "Python 3",
   "language": "python",
   "name": "python3"
  },
  "language_info": {
   "codemirror_mode": {
    "name": "ipython",
    "version": 3
   },
   "file_extension": ".py",
   "mimetype": "text/x-python",
   "name": "python",
   "nbconvert_exporter": "python",
   "pygments_lexer": "ipython3",
   "version": "3.6.8"
  },
  "varInspector": {
   "cols": {
    "lenName": 16,
    "lenType": 16,
    "lenVar": 40
   },
   "kernels_config": {
    "python": {
     "delete_cmd_postfix": "",
     "delete_cmd_prefix": "del ",
     "library": "var_list.py",
     "varRefreshCmd": "print(var_dic_list())"
    },
    "r": {
     "delete_cmd_postfix": ") ",
     "delete_cmd_prefix": "rm(",
     "library": "var_list.r",
     "varRefreshCmd": "cat(var_dic_list()) "
    }
   },
   "types_to_exclude": [
    "module",
    "function",
    "builtin_function_or_method",
    "instance",
    "_Feature"
   ],
   "window_display": false
  }
 },
 "nbformat": 4,
 "nbformat_minor": 2
}
